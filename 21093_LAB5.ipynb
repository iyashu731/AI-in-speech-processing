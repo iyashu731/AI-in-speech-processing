{
 "cells": [
  {
   "cell_type": "code",
   "execution_count": 1,
   "id": "d80bddfd",
   "metadata": {},
   "outputs": [
    {
     "ename": "NameError",
     "evalue": "name 'p' is not defined",
     "output_type": "error",
     "traceback": [
      "\u001b[1;31m---------------------------------------------------------------------------\u001b[0m",
      "\u001b[1;31mNameError\u001b[0m                                 Traceback (most recent call last)",
      "Input \u001b[1;32mIn [1]\u001b[0m, in \u001b[0;36m<cell line: 26>\u001b[1;34m()\u001b[0m\n\u001b[0;32m     24\u001b[0m plt\u001b[38;5;241m.\u001b[39mtitle(\u001b[38;5;124m'\u001b[39m\u001b[38;5;124mAmplitude Spectrum of Speech Signal\u001b[39m\u001b[38;5;124m'\u001b[39m)\n\u001b[0;32m     25\u001b[0m plt\u001b[38;5;241m.\u001b[39mgrid(\u001b[38;5;28;01mTrue\u001b[39;00m)\n\u001b[1;32m---> 26\u001b[0m \u001b[43mp\u001b[49m\n",
      "\u001b[1;31mNameError\u001b[0m: name 'p' is not defined"
     ]
    },
    {
     "data": {
      "image/png": "[encoded data removed]",
      "text/plain": [
       "<Figure size 720x288 with 1 Axes>"
      ]
     },
     "metadata": {
      "needs_background": "light"
     },
     "output_type": "display_data"
    }
   ],
   "source": [
    "import numpy as np\n",
    "import matplotlib.pyplot as plt\n",
    "\n",
    "# Generate a sample speech signal (you would load your actual speech signal here)\n",
    "# For demonstration purposes, let's create a simple sinusoidal signal\n",
    "sample_rate = 44100  # Sample rate in Hz\n",
    "duration = 1  # Duration of the signal in seconds\n",
    "frequency = 440  # Frequency of the signal in Hz (A4 note)\n",
    "t = np.linspace(0, duration, int(sample_rate * duration), endpoint=False)\n",
    "speech_signal = np.sin(2 * np.pi * frequency * t)\n",
    "\n",
    "# Compute the FFT (Fast Fourier Transform) to transform the speech signal into frequency domain\n",
    "speech_spectrum = np.fft.fft(speech_signal)\n",
    "\n",
    "# Calculate the amplitude spectrum\n",
    "amplitude_spectrum = np.abs(speech_spectrum)\n",
    "\n",
    "# Plot the amplitude spectrum\n",
    "plt.figure(figsize=(10, 4))\n",
    "frequencies = np.fft.fftfreq(len(amplitude_spectrum), d=1/sample_rate)  # Frequency bins\n",
    "plt.plot(frequencies[:len(frequencies)//2], amplitude_spectrum[:len(frequencies)//2])\n",
    "plt.xlabel('Frequency (Hz)')\n",
    "plt.ylabel('Amplitude')\n",
    "plt.title('Amplitude Spectrum of Speech Signal')\n",
    "plt.grid(True)\n",
    "p"
   ]
  },
  {
   "cell_type": "code",
   "execution_count": null,
   "id": "203f1f04",
   "metadata": {},
   "outputs": [],
   "source": []
  }
 ],
 "metadata": {
  "kernelspec": {
   "display_name": "Python 3 (ipykernel)",
   "language": "python",
   "name": "python3"
  },
  "language_info": {
   "codemirror_mode": {
    "name": "ipython",
    "version": 3
   },
   "file_extension": ".py",
   "mimetype": "text/x-python",
   "name": "python",
   "nbconvert_exporter": "python",
   "pygments_lexer": "ipython3",
   "version": "3.9.12"
  }
 },
 "nbformat": 4,
 "nbformat_minor": 5
}
